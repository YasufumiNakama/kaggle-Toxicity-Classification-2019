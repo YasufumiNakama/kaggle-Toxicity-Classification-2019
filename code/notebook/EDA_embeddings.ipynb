{
 "cells": [
  {
   "cell_type": "code",
   "execution_count": 10,
   "metadata": {},
   "outputs": [
    {
     "name": "stderr",
     "output_type": "stream",
     "text": [
      "2019-06-11 13:49:54,225 - INFO - logger set up\n",
      "2019-06-11 13:49:54,227 - INFO - loading Word2Vec object from exp8_w2v_finetune_nopreprocess.model\n",
      "/opt/conda/lib/python3.6/site-packages/smart_open/smart_open_lib.py:398: UserWarning: This function is deprecated, use smart_open.open instead. See the migration notes for details: https://github.com/RaRe-Technologies/smart_open/blob/master/README.rst#migrating-to-the-new-open-function\n",
      "  'See the migration notes for details: %s' % _MIGRATION_NOTES_URL\n",
      "2019-06-11 13:49:55,153 - INFO - loading wv recursively from exp8_w2v_finetune_nopreprocess.model.wv.* with mmap=None\n",
      "2019-06-11 13:49:55,155 - INFO - loading vectors from exp8_w2v_finetune_nopreprocess.model.wv.vectors.npy with mmap=None\n",
      "2019-06-11 13:49:55,333 - INFO - setting ignored attribute vectors_norm to None\n",
      "2019-06-11 13:49:55,334 - INFO - loading vocabulary recursively from exp8_w2v_finetune_nopreprocess.model.vocabulary.* with mmap=None\n",
      "2019-06-11 13:49:55,335 - INFO - loading trainables recursively from exp8_w2v_finetune_nopreprocess.model.trainables.* with mmap=None\n",
      "2019-06-11 13:49:55,336 - INFO - loading syn1neg from exp8_w2v_finetune_nopreprocess.model.trainables.syn1neg.npy with mmap=None\n",
      "2019-06-11 13:49:55,518 - INFO - setting ignored attribute cum_table to None\n",
      "2019-06-11 13:49:55,519 - INFO - loaded exp8_w2v_finetune_nopreprocess.model\n"
     ]
    }
   ],
   "source": [
    "import os\n",
    "import sys\n",
    "import time\n",
    "import pandas as pd\n",
    "from contextlib import contextmanager\n",
    "from gensim.models import word2vec, KeyedVectors, FastText\n",
    "from keras.preprocessing.text import text_to_word_sequence\n",
    "\n",
    "sys.path.append(\"../input/toxic-src\")\n",
    "from logger import setup_logger, LOGGER\n",
    "\n",
    "\n",
    "# ===============\n",
    "# Constants\n",
    "# ===============\n",
    "SAVE_DIR = \"./\"\n",
    "DATA_DIR = \"../input/jigsaw-unintended-bias-in-toxicity-classification\"\n",
    "LOGGER_PATH = os.path.join(SAVE_DIR, \"log.txt\")\n",
    "TRAIN_PATH = os.path.join(DATA_DIR, \"train.csv\")\n",
    "TEST_PATH = os.path.join(DATA_DIR, \"test.csv\")\n",
    "SUB_PATH = os.path.join(DATA_DIR, \"sample_submission.csv\")\n",
    "\n",
    "\n",
    "# ===============\n",
    "# Settings\n",
    "# ===============\n",
    "w2v_params = {\n",
    "    \"size\": 300,\n",
    "    \"iter\": 5,\n",
    "    \"seed\": 0,\n",
    "    \"min_count\": 1,\n",
    "    \"workers\": 1\n",
    "}\n",
    "save_path = \"exp1_w2v_selftrain_nopreprocess.model\"\n",
    "setup_logger(out_file=LOGGER_PATH)\n",
    "\n",
    "\n",
    "@contextmanager\n",
    "def timer(name):\n",
    "    t0 = time.time()\n",
    "    yield\n",
    "    LOGGER.info(f'[{name}] done in {time.time() - t0:.0f} s')\n",
    "\n",
    "    \n",
    "model = word2vec.Word2Vec.load(\"exp8_w2v_finetune_nopreprocess.model\")\n",
    "#model = FastText.load(\"exp7_w2v_finetune_preprocess.model\")"
   ]
  },
  {
   "cell_type": "code",
   "execution_count": 11,
   "metadata": {},
   "outputs": [
    {
     "name": "stderr",
     "output_type": "stream",
     "text": [
      "/opt/conda/lib/python3.6/site-packages/ipykernel_launcher.py:1: DeprecationWarning: Call to deprecated `most_similar` (Method will be removed in 4.0.0, use self.wv.most_similar() instead).\n",
      "  \"\"\"Entry point for launching an IPython kernel.\n",
      "2019-06-11 13:49:56,263 - INFO - precomputing L2-norms of word weight vectors\n"
     ]
    },
    {
     "data": {
      "text/plain": [
       "[('drumpf', 0.7466673851013184),\n",
       " ('djt', 0.6872212290763855),\n",
       " (\"trump's\", 0.6832065582275391),\n",
       " ('hillary', 0.6595946550369263),\n",
       " ('obama', 0.6556358933448792),\n",
       " ('hrc', 0.6482384204864502),\n",
       " ('trumpster', 0.6405925750732422),\n",
       " ('trumps', 0.6315802335739136),\n",
       " ('putin', 0.6263394951820374),\n",
       " ('trump’s', 0.5996044278144836)]"
      ]
     },
     "execution_count": 11,
     "metadata": {},
     "output_type": "execute_result"
    }
   ],
   "source": [
    "model.most_similar(\"trump\")"
   ]
  },
  {
   "cell_type": "code",
   "execution_count": 12,
   "metadata": {},
   "outputs": [
    {
     "name": "stderr",
     "output_type": "stream",
     "text": [
      "/opt/conda/lib/python3.6/site-packages/ipykernel_launcher.py:1: DeprecationWarning: Call to deprecated `most_similar` (Method will be removed in 4.0.0, use self.wv.most_similar() instead).\n",
      "  \"\"\"Entry point for launching an IPython kernel.\n"
     ]
    },
    {
     "data": {
      "text/plain": [
       "[('drumpf', 0.5882811546325684),\n",
       " ('putrumpski', 0.5520138144493103),\n",
       " ('trump', 0.5487068295478821),\n",
       " ('trumpy', 0.5007345676422119),\n",
       " ('trumpster', 0.49820977449417114),\n",
       " ('donnie', 0.4793684780597687),\n",
       " ('djt', 0.47891244292259216),\n",
       " ('donny', 0.4629574716091156),\n",
       " ('hitlery', 0.45693138241767883),\n",
       " ('rump', 0.4471845328807831)]"
      ]
     },
     "execution_count": 12,
     "metadata": {},
     "output_type": "execute_result"
    }
   ],
   "source": [
    "model.most_similar(\"cheetolini\")"
   ]
  },
  {
   "cell_type": "code",
   "execution_count": 13,
   "metadata": {},
   "outputs": [
    {
     "name": "stderr",
     "output_type": "stream",
     "text": [
      "/opt/conda/lib/python3.6/site-packages/ipykernel_launcher.py:1: DeprecationWarning: Call to deprecated `most_similar` (Method will be removed in 4.0.0, use self.wv.most_similar() instead).\n",
      "  \"\"\"Entry point for launching an IPython kernel.\n"
     ]
    },
    {
     "data": {
      "text/plain": [
       "[('sep', 0.45279839634895325),\n",
       " ('torontosun', 0.44154879450798035),\n",
       " ('jun', 0.4349125921726227),\n",
       " ('apr', 0.42696312069892883),\n",
       " ('feb', 0.42309853434562683),\n",
       " ('trf', 0.415429025888443),\n",
       " ('oct', 0.4141014516353607),\n",
       " (\"16's\", 0.4094734787940979),\n",
       " ('jul', 0.40675458312034607),\n",
       " ('juli', 0.404865026473999)]"
      ]
     },
     "execution_count": 13,
     "metadata": {},
     "output_type": "execute_result"
    }
   ],
   "source": [
    "model.most_similar(\"washingtontimes\")"
   ]
  },
  {
   "cell_type": "code",
   "execution_count": 14,
   "metadata": {},
   "outputs": [
    {
     "name": "stderr",
     "output_type": "stream",
     "text": [
      "/opt/conda/lib/python3.6/site-packages/ipykernel_launcher.py:1: DeprecationWarning: Call to deprecated `most_similar` (Method will be removed in 4.0.0, use self.wv.most_similar() instead).\n",
      "  \"\"\"Entry point for launching an IPython kernel.\n"
     ]
    },
    {
     "data": {
      "text/plain": [
       "[(\"obama's\", 0.7226218581199646),\n",
       " ('obamas', 0.6658400893211365),\n",
       " ('obama’s', 0.6594345569610596),\n",
       " ('trump', 0.6556358933448792),\n",
       " ('obummer', 0.6504493951797485),\n",
       " ('bush', 0.6445512175559998),\n",
       " ('reagan', 0.6410301923751831),\n",
       " ('clinton', 0.6241167783737183),\n",
       " ('hillary', 0.6221505403518677),\n",
       " ('nixon', 0.6079533696174622)]"
      ]
     },
     "execution_count": 14,
     "metadata": {},
     "output_type": "execute_result"
    }
   ],
   "source": [
    "model.most_similar(\"obama\")"
   ]
  },
  {
   "cell_type": "code",
   "execution_count": 15,
   "metadata": {},
   "outputs": [
    {
     "name": "stderr",
     "output_type": "stream",
     "text": [
      "/opt/conda/lib/python3.6/site-packages/ipykernel_launcher.py:1: DeprecationWarning: Call to deprecated `most_similar` (Method will be removed in 4.0.0, use self.wv.most_similar() instead).\n",
      "  \"\"\"Entry point for launching an IPython kernel.\n"
     ]
    },
    {
     "data": {
      "text/plain": [
       "[('lgbtq', 0.8726180791854858),\n",
       " ('gay', 0.7596004009246826),\n",
       " ('lbgt', 0.7144193053245544),\n",
       " ('glbt', 0.6499179005622864),\n",
       " ('lgtb', 0.6181888580322266),\n",
       " ('gays', 0.597923219203949),\n",
       " ('transgender', 0.5967017412185669),\n",
       " ('lbgtq', 0.5892442464828491),\n",
       " ('homosexual', 0.5839424133300781),\n",
       " ('transgendered', 0.5393625497817993)]"
      ]
     },
     "execution_count": 15,
     "metadata": {},
     "output_type": "execute_result"
    }
   ],
   "source": [
    "model.most_similar(\"lgbt\")"
   ]
  },
  {
   "cell_type": "code",
   "execution_count": 16,
   "metadata": {},
   "outputs": [
    {
     "name": "stderr",
     "output_type": "stream",
     "text": [
      "/opt/conda/lib/python3.6/site-packages/ipykernel_launcher.py:1: DeprecationWarning: Call to deprecated `most_similar` (Method will be removed in 4.0.0, use self.wv.most_similar() instead).\n",
      "  \"\"\"Entry point for launching an IPython kernel.\n"
     ]
    },
    {
     "data": {
      "text/plain": [
       "[('eu', 0.6005613803863525),\n",
       " ('referendum', 0.5485637784004211),\n",
       " ('ukip', 0.5389471054077148),\n",
       " ('corbyn', 0.5186786651611328),\n",
       " ('macron', 0.5114759206771851),\n",
       " ('snp', 0.48355725407600403),\n",
       " ('merkel', 0.4719584584236145),\n",
       " ('ceta', 0.4699776768684387),\n",
       " ('uk', 0.4677874445915222),\n",
       " ('nafta', 0.46644729375839233)]"
      ]
     },
     "execution_count": 16,
     "metadata": {},
     "output_type": "execute_result"
    }
   ],
   "source": [
    "model.most_similar(\"brexit\")"
   ]
  },
  {
   "cell_type": "code",
   "execution_count": 17,
   "metadata": {},
   "outputs": [
    {
     "name": "stderr",
     "output_type": "stream",
     "text": [
      "/opt/conda/lib/python3.6/site-packages/ipykernel_launcher.py:1: DeprecationWarning: Call to deprecated `most_similar` (Method will be removed in 4.0.0, use self.wv.most_similar() instead).\n",
      "  \"\"\"Entry point for launching an IPython kernel.\n"
     ]
    },
    {
     "data": {
      "text/plain": [
       "[('cryptocurrencies', 0.6650749444961548),\n",
       " ('segwit', 0.6462502479553223),\n",
       " ('coinmarketcap', 0.6357772350311279),\n",
       " ('1btc', 0.6234657764434814),\n",
       " ('mtgox', 0.6228510141372681),\n",
       " ('btsx', 0.5971863865852356),\n",
       " ('lbry', 0.5885393619537354),\n",
       " ('steemit', 0.5440430045127869),\n",
       " ('bcoin', 0.5330603718757629),\n",
       " ('jnug', 0.5238490104675293)]"
      ]
     },
     "execution_count": 17,
     "metadata": {},
     "output_type": "execute_result"
    }
   ],
   "source": [
    "model.most_similar(\"coinbase\")"
   ]
  },
  {
   "cell_type": "code",
   "execution_count": 18,
   "metadata": {},
   "outputs": [
    {
     "name": "stderr",
     "output_type": "stream",
     "text": [
      "/opt/conda/lib/python3.6/site-packages/ipykernel_launcher.py:1: DeprecationWarning: Call to deprecated `most_similar` (Method will be removed in 4.0.0, use self.wv.most_similar() instead).\n",
      "  \"\"\"Entry point for launching an IPython kernel.\n"
     ]
    },
    {
     "data": {
      "text/plain": [
       "[('twitterbot', 0.6120052337646484),\n",
       " ('repo1', 0.5949381589889526),\n",
       " ('apachesolr', 0.5929769277572632),\n",
       " ('quandl', 0.5493236184120178),\n",
       " ('win10', 0.5470220446586609),\n",
       " ('linuz', 0.5452548265457153),\n",
       " ('ipqs', 0.5449423789978027),\n",
       " ('undebateable', 0.542043924331665),\n",
       " ('ujseful', 0.541039764881134),\n",
       " ('neuroeducation', 0.5360795259475708)]"
      ]
     },
     "execution_count": 18,
     "metadata": {},
     "output_type": "execute_result"
    }
   ],
   "source": [
    "model.most_similar(\"tensorflow\")"
   ]
  },
  {
   "cell_type": "code",
   "execution_count": 19,
   "metadata": {},
   "outputs": [
    {
     "name": "stderr",
     "output_type": "stream",
     "text": [
      "/opt/conda/lib/python3.6/site-packages/ipykernel_launcher.py:1: DeprecationWarning: Call to deprecated `most_similar` (Method will be removed in 4.0.0, use self.wv.most_similar() instead).\n",
      "  \"\"\"Entry point for launching an IPython kernel.\n"
     ]
    },
    {
     "data": {
      "text/plain": [
       "[('cybersecure', 0.5592607855796814),\n",
       " ('brexit’s', 0.5505238175392151),\n",
       " (\"brexiteers'\", 0.5497649908065796),\n",
       " (\"brexiter's\", 0.5493022203445435),\n",
       " ('manzama', 0.5478142499923706),\n",
       " ('indyref2', 0.5404115915298462),\n",
       " (\"brexit's\", 0.537091076374054),\n",
       " ('‘brexit’', 0.5340575575828552),\n",
       " ('ab60', 0.5289008617401123),\n",
       " (\"'brexit\", 0.5273776054382324)]"
      ]
     },
     "execution_count": 19,
     "metadata": {},
     "output_type": "execute_result"
    }
   ],
   "source": [
    "model.most_similar(\"gdpr\")"
   ]
  },
  {
   "cell_type": "code",
   "execution_count": 20,
   "metadata": {},
   "outputs": [
    {
     "name": "stderr",
     "output_type": "stream",
     "text": [
      "/opt/conda/lib/python3.6/site-packages/ipykernel_launcher.py:1: DeprecationWarning: Call to deprecated `most_similar` (Method will be removed in 4.0.0, use self.wv.most_similar() instead).\n",
      "  \"\"\"Entry point for launching an IPython kernel.\n"
     ]
    },
    {
     "data": {
      "text/plain": [
       "[(\"0bama's\", 0.8263639807701111),\n",
       " ('obozo', 0.7092679142951965),\n",
       " ('odumbo', 0.6500077247619629),\n",
       " ('obumbler', 0.6499822735786438),\n",
       " ('obummer', 0.6473488807678223),\n",
       " ('obomber', 0.6458436250686646),\n",
       " ('oblahblah', 0.6401388049125671),\n",
       " ('obamao', 0.62488853931427),\n",
       " (\"obozo's\", 0.6242970824241638),\n",
       " ('oblamer', 0.618243932723999)]"
      ]
     },
     "execution_count": 20,
     "metadata": {},
     "output_type": "execute_result"
    }
   ],
   "source": [
    "model.most_similar(\"0bama\")"
   ]
  },
  {
   "cell_type": "code",
   "execution_count": 21,
   "metadata": {},
   "outputs": [
    {
     "name": "stderr",
     "output_type": "stream",
     "text": [
      "/opt/conda/lib/python3.6/site-packages/ipykernel_launcher.py:1: DeprecationWarning: Call to deprecated `most_similar` (Method will be removed in 4.0.0, use self.wv.most_similar() instead).\n",
      "  \"\"\"Entry point for launching an IPython kernel.\n"
     ]
    },
    {
     "data": {
      "text/plain": [
       "[('gemany', 0.5356997847557068),\n",
       " ('germay', 0.5336135625839233),\n",
       " ('switserland', 0.48412731289863586),\n",
       " ('wurzburg', 0.4474010765552521),\n",
       " ('beligum', 0.44530755281448364),\n",
       " ('wuerzburg', 0.4449155032634735),\n",
       " ('swizerland', 0.4407042860984802),\n",
       " ('signapore', 0.43891048431396484),\n",
       " ('czechoslavakia', 0.4327426552772522),\n",
       " ('rhineland', 0.4297659695148468)]"
      ]
     },
     "execution_count": 21,
     "metadata": {},
     "output_type": "execute_result"
    }
   ],
   "source": [
    "model.most_similar(\"germnay\")"
   ]
  },
  {
   "cell_type": "code",
   "execution_count": 22,
   "metadata": {},
   "outputs": [
    {
     "name": "stderr",
     "output_type": "stream",
     "text": [
      "/opt/conda/lib/python3.6/site-packages/ipykernel_launcher.py:1: DeprecationWarning: Call to deprecated `most_similar` (Method will be removed in 4.0.0, use self.wv.most_similar() instead).\n",
      "  \"\"\"Entry point for launching an IPython kernel.\n"
     ]
    },
    {
     "data": {
      "text/plain": [
       "[(\"'compressing\", 0.7806158661842346),\n",
       " (\"compression's\", 0.7714491486549377),\n",
       " ('compress', 0.7572919130325317),\n",
       " ('compressing', 0.6964548826217651),\n",
       " ('compressed', 0.5620607733726501),\n",
       " ('compressible', 0.5066367983818054),\n",
       " (\"decompress'\", 0.5059976577758789),\n",
       " ('condenses', 0.5032535791397095),\n",
       " ('optimizes', 0.49175384640693665),\n",
       " ('encrypts', 0.48074761033058167)]"
      ]
     },
     "execution_count": 22,
     "metadata": {},
     "output_type": "execute_result"
    }
   ],
   "source": [
    "model.most_similar(\"compresses\")"
   ]
  },
  {
   "cell_type": "code",
   "execution_count": 23,
   "metadata": {},
   "outputs": [
    {
     "name": "stderr",
     "output_type": "stream",
     "text": [
      "/opt/conda/lib/python3.6/site-packages/ipykernel_launcher.py:1: DeprecationWarning: Call to deprecated `most_similar` (Method will be removed in 4.0.0, use self.wv.most_similar() instead).\n",
      "  \"\"\"Entry point for launching an IPython kernel.\n"
     ]
    },
    {
     "data": {
      "text/plain": [
       "[('mtf1943', 0.9934194087982178),\n",
       " ('hillarophobia', 0.9933812022209167),\n",
       " ('50921721165d', 0.9933504462242126),\n",
       " ('“that”s', 0.9932843446731567),\n",
       " ('mpur', 0.9932708740234375),\n",
       " ('2016🌟🇺🇸', 0.993253767490387),\n",
       " ('winningwinningwinningwinningwinningwinningwinningwinningwinningwinningwinningwinningwinningwinningwinningwinningwinningwinningwinningwinningwinningwinningwinningwinningwinningwinningwinningwinningwinningwinningwinningwinningwinningwinningwinningwinningwinningwinningwinningwinningwinningwinningwinningwinningwinningwinningwinningwinningwinningwinningwinningwinningwinningwinning',\n",
       "  0.9932524561882019),\n",
       " ('8…', 0.9932365417480469),\n",
       " ('incocet', 0.9932276606559753),\n",
       " ('0ahukewin3n', 0.9932162761688232)]"
      ]
     },
     "execution_count": 23,
     "metadata": {},
     "output_type": "execute_result"
    }
   ],
   "source": [
    "model.most_similar(\"germeny\")"
   ]
  },
  {
   "cell_type": "code",
   "execution_count": 24,
   "metadata": {},
   "outputs": [
    {
     "name": "stderr",
     "output_type": "stream",
     "text": [
      "/opt/conda/lib/python3.6/site-packages/ipykernel_launcher.py:1: DeprecationWarning: Call to deprecated `most_similar` (Method will be removed in 4.0.0, use self.wv.most_similar() instead).\n",
      "  \"\"\"Entry point for launching an IPython kernel.\n"
     ]
    },
    {
     "data": {
      "text/plain": [
       "[('quran', 0.7845902442932129),\n",
       " ('koran', 0.7614692449569702),\n",
       " ('hadith', 0.7100853323936462),\n",
       " (\"qu'ran\", 0.6738560199737549),\n",
       " ('verses', 0.6487593650817871),\n",
       " ('qur’an', 0.637866199016571),\n",
       " ('bible', 0.6348029375076294),\n",
       " ('torah', 0.6241525411605835),\n",
       " ('scriptures', 0.6109548807144165),\n",
       " ('hadiths', 0.6108025312423706)]"
      ]
     },
     "execution_count": 24,
     "metadata": {},
     "output_type": "execute_result"
    }
   ],
   "source": [
    "model.most_similar(\"qur'an\")"
   ]
  },
  {
   "cell_type": "code",
   "execution_count": 25,
   "metadata": {},
   "outputs": [
    {
     "name": "stderr",
     "output_type": "stream",
     "text": [
      "/opt/conda/lib/python3.6/site-packages/ipykernel_launcher.py:1: DeprecationWarning: Call to deprecated `most_similar` (Method will be removed in 4.0.0, use self.wv.most_similar() instead).\n",
      "  \"\"\"Entry point for launching an IPython kernel.\n"
     ]
    },
    {
     "data": {
      "text/plain": [
       "[('deplorable', 0.529308557510376),\n",
       " ('supporters', 0.5126259326934814),\n",
       " ('racists', 0.5060428380966187),\n",
       " ('irredeemable', 0.5056288242340088),\n",
       " ('trumpsters', 0.4883350431919098),\n",
       " ('bigots', 0.47753816843032837),\n",
       " ('rubes', 0.4668005704879761),\n",
       " ('chumps', 0.4466981589794159),\n",
       " ('libtards', 0.4453332722187042),\n",
       " ('magaphants', 0.4394519329071045)]"
      ]
     },
     "execution_count": 25,
     "metadata": {},
     "output_type": "execute_result"
    }
   ],
   "source": [
    "model.most_similar(\"deplorables\")"
   ]
  },
  {
   "cell_type": "code",
   "execution_count": null,
   "metadata": {},
   "outputs": [],
   "source": []
  }
 ],
 "metadata": {
  "kernelspec": {
   "display_name": "Python 3",
   "language": "python",
   "name": "python3"
  },
  "language_info": {
   "codemirror_mode": {
    "name": "ipython",
    "version": 3
   },
   "file_extension": ".py",
   "mimetype": "text/x-python",
   "name": "python",
   "nbconvert_exporter": "python",
   "pygments_lexer": "ipython3",
   "version": "3.6.8"
  }
 },
 "nbformat": 4,
 "nbformat_minor": 2
}
